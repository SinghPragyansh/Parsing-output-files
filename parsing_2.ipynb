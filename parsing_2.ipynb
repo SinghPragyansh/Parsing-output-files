{
 "cells": [
  {
   "cell_type": "markdown",
   "id": "9e7066f4",
   "metadata": {},
   "source": [
    "### **Exercise**\n",
    "\n",
    "Parse the Mulliken charges with hydrogens summed into heavy atoms"
   ]
  },
  {
   "cell_type": "code",
   "execution_count": 14,
   "id": "55a37781",
   "metadata": {},
   "outputs": [],
   "source": [
    "import re\n",
    "import pandas as pd"
   ]
  },
  {
   "cell_type": "code",
   "execution_count": 2,
   "id": "32869b2c",
   "metadata": {},
   "outputs": [],
   "source": [
    "start_pat = re.compile(r'Mulliken charges with hydrogens summed into heavy atoms:')\n",
    "end_pat = re.compile(r'Electronic spatial extent')"
   ]
  },
  {
   "cell_type": "code",
   "execution_count": 3,
   "id": "8d950cc9",
   "metadata": {},
   "outputs": [],
   "source": [
    "with open(\"tddft.log\") as f:\n",
    "    more_lines = f.readlines()"
   ]
  },
  {
   "cell_type": "code",
   "execution_count": 4,
   "id": "c92f6c86",
   "metadata": {},
   "outputs": [
    {
     "name": "stdout",
     "output_type": "stream",
     "text": [
      "[' Entering Gaussian System, Link 0=g16\\n', ' Input=tddft.com\\n', ' Output=tddft.log\\n', ' Initial command:\\n', ' /g16/l1.exe \"/Gau-348183.inp\" -scrdir=\"/tddfttoluene/\"\\n']\n"
     ]
    }
   ],
   "source": [
    "print(more_lines[:5])"
   ]
  },
  {
   "cell_type": "code",
   "execution_count": 5,
   "id": "7de137e5",
   "metadata": {},
   "outputs": [],
   "source": [
    "for idx, single_line in enumerate(more_lines):\n",
    "    if re.match(start_pat, single_line.strip()):\n",
    "        break"
   ]
  },
  {
   "cell_type": "code",
   "execution_count": 6,
   "id": "f44d6435",
   "metadata": {},
   "outputs": [
    {
     "name": "stdout",
     "output_type": "stream",
     "text": [
      "1456\n"
     ]
    }
   ],
   "source": [
    "print(idx)"
   ]
  },
  {
   "cell_type": "code",
   "execution_count": 7,
   "id": "66bf7199",
   "metadata": {},
   "outputs": [],
   "source": [
    "# the initial two lines after idx are not needed from data collection perspective\n",
    "idx = idx +2"
   ]
  },
  {
   "cell_type": "code",
   "execution_count": 8,
   "id": "5e68190d",
   "metadata": {},
   "outputs": [
    {
     "name": "stdout",
     "output_type": "stream",
     "text": [
      "     1  C   -0.465360\n",
      "\n"
     ]
    }
   ],
   "source": [
    "single_line = more_lines[idx]\n",
    "print(single_line)"
   ]
  },
  {
   "cell_type": "code",
   "execution_count": 9,
   "id": "193af110",
   "metadata": {},
   "outputs": [],
   "source": [
    "parsed_lines = []\n",
    "while not(re.match(end_pat, single_line.strip())):\n",
    "    parsed_lines.append(single_line.strip())\n",
    "    idx += 1\n",
    "    single_line = more_lines[idx]"
   ]
  },
  {
   "cell_type": "code",
   "execution_count": 12,
   "id": "086a57bf",
   "metadata": {},
   "outputs": [
    {
     "name": "stdout",
     "output_type": "stream",
     "text": [
      "['1', 'C', '-0.465360']\n"
     ]
    }
   ],
   "source": [
    "clean_line = parsed_lines[0].strip().split()\n",
    "print(clean_line)"
   ]
  },
  {
   "cell_type": "code",
   "execution_count": 13,
   "id": "00203c22",
   "metadata": {},
   "outputs": [],
   "source": [
    "data = []\n",
    "for line in parsed_lines:\n",
    "    clean_line = line.strip().split()\n",
    "    data.append(\n",
    "          {\"number\": int(clean_line[0]),\n",
    "         \"atom\": clean_line[1],\n",
    "         \"charge\": float(clean_line[2])\n",
    "     }\n",
    "      )"
   ]
  },
  {
   "cell_type": "code",
   "execution_count": 15,
   "id": "98620753",
   "metadata": {},
   "outputs": [
    {
     "data": {
      "text/html": [
       "<div>\n",
       "<style scoped>\n",
       "    .dataframe tbody tr th:only-of-type {\n",
       "        vertical-align: middle;\n",
       "    }\n",
       "\n",
       "    .dataframe tbody tr th {\n",
       "        vertical-align: top;\n",
       "    }\n",
       "\n",
       "    .dataframe thead th {\n",
       "        text-align: right;\n",
       "    }\n",
       "</style>\n",
       "<table border=\"1\" class=\"dataframe\">\n",
       "  <thead>\n",
       "    <tr style=\"text-align: right;\">\n",
       "      <th></th>\n",
       "      <th>number</th>\n",
       "      <th>atom</th>\n",
       "      <th>charge</th>\n",
       "    </tr>\n",
       "  </thead>\n",
       "  <tbody>\n",
       "    <tr>\n",
       "      <th>0</th>\n",
       "      <td>1</td>\n",
       "      <td>C</td>\n",
       "      <td>-0.465360</td>\n",
       "    </tr>\n",
       "    <tr>\n",
       "      <th>1</th>\n",
       "      <td>2</td>\n",
       "      <td>C</td>\n",
       "      <td>-0.010817</td>\n",
       "    </tr>\n",
       "    <tr>\n",
       "      <th>2</th>\n",
       "      <td>3</td>\n",
       "      <td>C</td>\n",
       "      <td>0.014265</td>\n",
       "    </tr>\n",
       "    <tr>\n",
       "      <th>3</th>\n",
       "      <td>4</td>\n",
       "      <td>C</td>\n",
       "      <td>-0.067333</td>\n",
       "    </tr>\n",
       "    <tr>\n",
       "      <th>4</th>\n",
       "      <td>5</td>\n",
       "      <td>C</td>\n",
       "      <td>-0.066472</td>\n",
       "    </tr>\n",
       "    <tr>\n",
       "      <th>5</th>\n",
       "      <td>6</td>\n",
       "      <td>C</td>\n",
       "      <td>0.079476</td>\n",
       "    </tr>\n",
       "    <tr>\n",
       "      <th>6</th>\n",
       "      <td>7</td>\n",
       "      <td>C</td>\n",
       "      <td>-0.066472</td>\n",
       "    </tr>\n",
       "    <tr>\n",
       "      <th>7</th>\n",
       "      <td>8</td>\n",
       "      <td>C</td>\n",
       "      <td>-0.067333</td>\n",
       "    </tr>\n",
       "    <tr>\n",
       "      <th>8</th>\n",
       "      <td>9</td>\n",
       "      <td>C</td>\n",
       "      <td>0.078296</td>\n",
       "    </tr>\n",
       "    <tr>\n",
       "      <th>9</th>\n",
       "      <td>11</td>\n",
       "      <td>C</td>\n",
       "      <td>0.030691</td>\n",
       "    </tr>\n",
       "    <tr>\n",
       "      <th>10</th>\n",
       "      <td>12</td>\n",
       "      <td>C</td>\n",
       "      <td>0.014265</td>\n",
       "    </tr>\n",
       "    <tr>\n",
       "      <th>11</th>\n",
       "      <td>13</td>\n",
       "      <td>C</td>\n",
       "      <td>0.078295</td>\n",
       "    </tr>\n",
       "    <tr>\n",
       "      <th>12</th>\n",
       "      <td>14</td>\n",
       "      <td>C</td>\n",
       "      <td>0.079477</td>\n",
       "    </tr>\n",
       "    <tr>\n",
       "      <th>13</th>\n",
       "      <td>15</td>\n",
       "      <td>C</td>\n",
       "      <td>0.031101</td>\n",
       "    </tr>\n",
       "    <tr>\n",
       "      <th>14</th>\n",
       "      <td>17</td>\n",
       "      <td>C</td>\n",
       "      <td>0.031101</td>\n",
       "    </tr>\n",
       "    <tr>\n",
       "      <th>15</th>\n",
       "      <td>18</td>\n",
       "      <td>C</td>\n",
       "      <td>-0.010816</td>\n",
       "    </tr>\n",
       "    <tr>\n",
       "      <th>16</th>\n",
       "      <td>21</td>\n",
       "      <td>C</td>\n",
       "      <td>0.030691</td>\n",
       "    </tr>\n",
       "    <tr>\n",
       "      <th>17</th>\n",
       "      <td>24</td>\n",
       "      <td>C</td>\n",
       "      <td>-0.465361</td>\n",
       "    </tr>\n",
       "    <tr>\n",
       "      <th>18</th>\n",
       "      <td>27</td>\n",
       "      <td>Si</td>\n",
       "      <td>0.902314</td>\n",
       "    </tr>\n",
       "    <tr>\n",
       "      <th>19</th>\n",
       "      <td>28</td>\n",
       "      <td>C</td>\n",
       "      <td>-0.174283</td>\n",
       "    </tr>\n",
       "    <tr>\n",
       "      <th>20</th>\n",
       "      <td>29</td>\n",
       "      <td>C</td>\n",
       "      <td>-0.177593</td>\n",
       "    </tr>\n",
       "    <tr>\n",
       "      <th>21</th>\n",
       "      <td>30</td>\n",
       "      <td>C</td>\n",
       "      <td>-0.174286</td>\n",
       "    </tr>\n",
       "    <tr>\n",
       "      <th>22</th>\n",
       "      <td>31</td>\n",
       "      <td>Si</td>\n",
       "      <td>0.902315</td>\n",
       "    </tr>\n",
       "    <tr>\n",
       "      <th>23</th>\n",
       "      <td>32</td>\n",
       "      <td>C</td>\n",
       "      <td>-0.177592</td>\n",
       "    </tr>\n",
       "    <tr>\n",
       "      <th>24</th>\n",
       "      <td>33</td>\n",
       "      <td>C</td>\n",
       "      <td>-0.174281</td>\n",
       "    </tr>\n",
       "    <tr>\n",
       "      <th>25</th>\n",
       "      <td>34</td>\n",
       "      <td>C</td>\n",
       "      <td>-0.174289</td>\n",
       "    </tr>\n",
       "  </tbody>\n",
       "</table>\n",
       "</div>"
      ],
      "text/plain": [
       "    number atom    charge\n",
       "0        1    C -0.465360\n",
       "1        2    C -0.010817\n",
       "2        3    C  0.014265\n",
       "3        4    C -0.067333\n",
       "4        5    C -0.066472\n",
       "5        6    C  0.079476\n",
       "6        7    C -0.066472\n",
       "7        8    C -0.067333\n",
       "8        9    C  0.078296\n",
       "9       11    C  0.030691\n",
       "10      12    C  0.014265\n",
       "11      13    C  0.078295\n",
       "12      14    C  0.079477\n",
       "13      15    C  0.031101\n",
       "14      17    C  0.031101\n",
       "15      18    C -0.010816\n",
       "16      21    C  0.030691\n",
       "17      24    C -0.465361\n",
       "18      27   Si  0.902314\n",
       "19      28    C -0.174283\n",
       "20      29    C -0.177593\n",
       "21      30    C -0.174286\n",
       "22      31   Si  0.902315\n",
       "23      32    C -0.177592\n",
       "24      33    C -0.174281\n",
       "25      34    C -0.174289"
      ]
     },
     "execution_count": 15,
     "metadata": {},
     "output_type": "execute_result"
    }
   ],
   "source": [
    "pd.DataFrame(data)"
   ]
  },
  {
   "cell_type": "code",
   "execution_count": null,
   "id": "6823f47b",
   "metadata": {},
   "outputs": [],
   "source": []
  }
 ],
 "metadata": {
  "kernelspec": {
   "display_name": "Python 3",
   "language": "python",
   "name": "python3"
  },
  "language_info": {
   "codemirror_mode": {
    "name": "ipython",
    "version": 3
   },
   "file_extension": ".py",
   "mimetype": "text/x-python",
   "name": "python",
   "nbconvert_exporter": "python",
   "pygments_lexer": "ipython3",
   "version": "3.8.8"
  }
 },
 "nbformat": 4,
 "nbformat_minor": 5
}
