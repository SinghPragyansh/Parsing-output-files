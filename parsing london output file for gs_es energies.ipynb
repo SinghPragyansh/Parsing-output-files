{
 "cells": [
  {
   "cell_type": "code",
   "execution_count": 39,
   "id": "15ce5e47",
   "metadata": {},
   "outputs": [],
   "source": [
    "import numpy as np\n",
    "import re\n",
    "import pandas as pd\n",
    "import matplotlib.pyplot as plt"
   ]
  },
  {
   "cell_type": "code",
   "execution_count": 2,
   "id": "4d7c881e",
   "metadata": {},
   "outputs": [],
   "source": [
    "pat1 = re.compile(r'correlation-model =')"
   ]
  },
  {
   "cell_type": "code",
   "execution_count": 3,
   "id": "f76bee1b",
   "metadata": {},
   "outputs": [],
   "source": [
    "with open(\"H2.out\") as f:\n",
    "    all_lines = f.readlines()"
   ]
  },
  {
   "cell_type": "code",
   "execution_count": 4,
   "id": "8f6a3ab2",
   "metadata": {},
   "outputs": [
    {
     "data": {
      "text/plain": [
       "list"
      ]
     },
     "execution_count": 4,
     "metadata": {},
     "output_type": "execute_result"
    }
   ],
   "source": [
    "type(all_lines)"
   ]
  },
  {
   "cell_type": "code",
   "execution_count": 5,
   "id": "a34518de",
   "metadata": {},
   "outputs": [
    {
     "data": {
      "text/plain": [
       "(132, '    correlation-model = RSP\\n')"
      ]
     },
     "execution_count": 5,
     "metadata": {},
     "output_type": "execute_result"
    }
   ],
   "source": [
    "for idx, line in enumerate(all_lines):\n",
    "    if re.match(pat1, line.strip()):\n",
    "        break\n",
    "# index of pat1\n",
    "idx+1, line"
   ]
  },
  {
   "cell_type": "code",
   "execution_count": 6,
   "id": "f7880bba",
   "metadata": {},
   "outputs": [],
   "source": [
    "parsed_lines = []\n",
    "parsed_lines.append(all_lines[idx])"
   ]
  },
  {
   "cell_type": "markdown",
   "id": "9f734701",
   "metadata": {},
   "source": [
    "                        ## Noting the charge and coordinate info"
   ]
  },
  {
   "cell_type": "code",
   "execution_count": 7,
   "id": "6595c213",
   "metadata": {},
   "outputs": [],
   "source": [
    "pat2 = re.compile(r\"charge\")\n",
    "pat3 = re.compile(r\"}\")"
   ]
  },
  {
   "cell_type": "code",
   "execution_count": 8,
   "id": "c7963e87",
   "metadata": {},
   "outputs": [],
   "source": [
    "for idx, line in enumerate(all_lines):\n",
    "    if re.match(pat2, line.strip()):\n",
    "        break"
   ]
  },
  {
   "cell_type": "code",
   "execution_count": 9,
   "id": "feb932cb",
   "metadata": {},
   "outputs": [
    {
     "data": {
      "text/plain": [
       "'    charge = 1\\n'"
      ]
     },
     "execution_count": 9,
     "metadata": {},
     "output_type": "execute_result"
    }
   ],
   "source": [
    "line"
   ]
  },
  {
   "cell_type": "code",
   "execution_count": 10,
   "id": "6f5d4c09",
   "metadata": {},
   "outputs": [],
   "source": [
    "while not(re.match(pat3, line.strip())):\n",
    "    parsed_lines.append(line.strip())\n",
    "    idx +=1\n",
    "    line  = all_lines[idx]"
   ]
  },
  {
   "cell_type": "code",
   "execution_count": 11,
   "id": "9d0b9cc6",
   "metadata": {},
   "outputs": [
    {
     "data": {
      "text/plain": [
       "(list,\n",
       " ['    correlation-model = RSP\\n',\n",
       "  'charge = 1',\n",
       "  'H          1.5            0            0',\n",
       "  'H            0            0            0'])"
      ]
     },
     "execution_count": 11,
     "metadata": {},
     "output_type": "execute_result"
    }
   ],
   "source": [
    "type(parsed_lines), parsed_lines"
   ]
  },
  {
   "cell_type": "markdown",
   "id": "e1389a9f",
   "metadata": {},
   "source": [
    "                       ## Noting the Converged SCF results"
   ]
  },
  {
   "cell_type": "code",
   "execution_count": 12,
   "id": "087a96ae",
   "metadata": {},
   "outputs": [],
   "source": [
    "pat4 = re.compile(r\"Converged SCF results:\")\n",
    "pat5 = re.compile(r\"---------------------------------------------------------------------------\")"
   ]
  },
  {
   "cell_type": "code",
   "execution_count": 13,
   "id": "21da49fb",
   "metadata": {},
   "outputs": [],
   "source": [
    "for idx, line in enumerate(all_lines):\n",
    "    if re.match(pat4, line.strip()):\n",
    "        break"
   ]
  },
  {
   "cell_type": "code",
   "execution_count": 14,
   "id": "0b69dbb6",
   "metadata": {},
   "outputs": [
    {
     "data": {
      "text/plain": [
       "'Converged SCF results:'"
      ]
     },
     "execution_count": 14,
     "metadata": {},
     "output_type": "execute_result"
    }
   ],
   "source": [
    "line.strip()"
   ]
  },
  {
   "cell_type": "code",
   "execution_count": 15,
   "id": "bd4b4fe5",
   "metadata": {},
   "outputs": [
    {
     "data": {
      "text/plain": [
       "(list, ['Converged', 'SCF', 'results:'])"
      ]
     },
     "execution_count": 15,
     "metadata": {},
     "output_type": "execute_result"
    }
   ],
   "source": [
    "okay = line.strip().split()\n",
    "type(okay), okay"
   ]
  },
  {
   "cell_type": "code",
   "execution_count": 16,
   "id": "aaf7e14e",
   "metadata": {},
   "outputs": [],
   "source": [
    "while not(re.match(pat5, line.strip())):\n",
    "    parsed_lines.append(line.strip())\n",
    "    idx += 1\n",
    "    line = all_lines[idx]\n",
    "parsed_lines = parsed_lines[:-5]"
   ]
  },
  {
   "cell_type": "code",
   "execution_count": 17,
   "id": "ebfd8502",
   "metadata": {},
   "outputs": [],
   "source": [
    "pat6 = re.compile(r\"The Final eigenvalues from the Davidson method\")"
   ]
  },
  {
   "cell_type": "code",
   "execution_count": 18,
   "id": "4e1584e1",
   "metadata": {},
   "outputs": [],
   "source": [
    "for idx, line in enumerate(all_lines):\n",
    "    if re.match(pat6, line.strip()):\n",
    "        break\n",
    "idx = idx + 2\n",
    "parsed_lines.append(all_lines[idx])"
   ]
  },
  {
   "cell_type": "markdown",
   "id": "2010c794",
   "metadata": {},
   "source": [
    "                         ## Cleaning the parsed lines"
   ]
  },
  {
   "cell_type": "code",
   "execution_count": 19,
   "id": "6a178b83",
   "metadata": {},
   "outputs": [],
   "source": [
    "clean_parsing = []\n",
    "for line in parsed_lines:\n",
    "    clean_parsing.append(line.strip())"
   ]
  },
  {
   "cell_type": "code",
   "execution_count": 20,
   "id": "4fdb32dc",
   "metadata": {},
   "outputs": [],
   "source": [
    "parsed_file = open('london.txt', 'w')\n",
    "for line in clean_parsing:\n",
    "    parsed_file.write(f\"{line}\\n\")\n",
    "parsed_file.close()"
   ]
  },
  {
   "cell_type": "markdown",
   "id": "8304df73",
   "metadata": {},
   "source": [
    "                      ## Testing other ways of parsing"
   ]
  },
  {
   "cell_type": "markdown",
   "id": "a763c656",
   "metadata": {},
   "source": [
    "#### This parsing is based on searching keywords in certain lines"
   ]
  },
  {
   "cell_type": "code",
   "execution_count": 21,
   "id": "2057ac26",
   "metadata": {},
   "outputs": [],
   "source": [
    "pat7 = re.compile(r\".Total:..\")\n",
    "pat8 = re.compile(r\"Root:...\")"
   ]
  },
  {
   "cell_type": "code",
   "execution_count": 22,
   "id": "01e14063",
   "metadata": {},
   "outputs": [],
   "source": [
    "note_lines = []\n",
    "# since we have already parsed the g.g. energy in parsed_lines, so lets just search there.\n",
    "for line in parsed_lines:    \n",
    "    for match in re.finditer(pat7, line):\n",
    "        note_lines.append(line)\n",
    "# note_lines"
   ]
  },
  {
   "cell_type": "code",
   "execution_count": 23,
   "id": "a1126384",
   "metadata": {},
   "outputs": [],
   "source": [
    "# lets extract the e.s. energies\n",
    "for line in all_lines:\n",
    "    for match in re.finditer(pat8, line):\n",
    "        note_lines.append(line)\n",
    "# note_lines"
   ]
  },
  {
   "cell_type": "code",
   "execution_count": 24,
   "id": "621edd67",
   "metadata": {},
   "outputs": [],
   "source": [
    "es = []\n",
    "gs = []\n",
    "energies = []\n",
    "for i in range(len(note_lines)):\n",
    "    splitem = note_lines[i].strip().split()\n",
    "    #print(splitem)\n",
    "    if i == 0:\n",
    "        energies.append(splitem[2])\n",
    "    else:\n",
    "        energies.append(splitem[4])"
   ]
  },
  {
   "cell_type": "code",
   "execution_count": 31,
   "id": "51259db5",
   "metadata": {},
   "outputs": [],
   "source": [
    "energies = np.array(energies, dtype = 'float')\n",
    "# energies\n",
    "# add the energy differences to get the excited state energies \n",
    "for i in range(len(energies)-1):\n",
    "    energies[i+1] += energies[i] "
   ]
  },
  {
   "cell_type": "code",
   "execution_count": 42,
   "id": "df794242",
   "metadata": {},
   "outputs": [
    {
     "data": {
      "text/plain": [
       "[<matplotlib.lines.Line2D at 0x7f9e8da881c0>]"
      ]
     },
     "execution_count": 42,
     "metadata": {},
     "output_type": "execute_result"
    },
    {
     "data": {
      "image/png": "[encoded data removed]",
      "text/plain": [
       "<Figure size 432x288 with 1 Axes>"
      ]
     },
     "metadata": {
      "needs_background": "light"
     },
     "output_type": "display_data"
    }
   ],
   "source": [
    "plt.plot(np.arange(1, len(energies)+1), energies)"
   ]
  },
  {
   "cell_type": "code",
   "execution_count": 32,
   "id": "c609edd3",
   "metadata": {},
   "outputs": [
    {
     "data": {
      "text/plain": [
       "['Root1: -1.11818', 'Root2: -0.79711', 'Root3: -0.26564']"
      ]
     },
     "execution_count": 32,
     "metadata": {},
     "output_type": "execute_result"
    }
   ],
   "source": [
    "data = []\n",
    "for i in range(len(energies)):\n",
    "    data.append(f\"Root{i+1}: {round(energies[i], 5)}\")\n",
    "data"
   ]
  },
  {
   "cell_type": "code",
   "execution_count": 33,
   "id": "34ef9dc6",
   "metadata": {},
   "outputs": [
    {
     "data": {
      "text/plain": [
       "['Root1:', '-1.11818']"
      ]
     },
     "execution_count": 33,
     "metadata": {},
     "output_type": "execute_result"
    }
   ],
   "source": [
    "data[0].strip().split()"
   ]
  },
  {
   "cell_type": "code",
   "execution_count": 35,
   "id": "58064598",
   "metadata": {},
   "outputs": [],
   "source": [
    "pd_data = []\n",
    "for i in range(len(data)):\n",
    "    splitem = data[i].strip().split()\n",
    "    pd_data.append({\"State\": splitem[0],\n",
    "                   \"Energy /(eV)\": splitem[1]})"
   ]
  },
  {
   "cell_type": "code",
   "execution_count": 37,
   "id": "e5d2a559",
   "metadata": {},
   "outputs": [],
   "source": [
    "# pd_data"
   ]
  },
  {
   "cell_type": "code",
   "execution_count": 38,
   "id": "8bb24764",
   "metadata": {},
   "outputs": [
    {
     "data": {
      "text/html": [
       "<div>\n",
       "<style scoped>\n",
       "    .dataframe tbody tr th:only-of-type {\n",
       "        vertical-align: middle;\n",
       "    }\n",
       "\n",
       "    .dataframe tbody tr th {\n",
       "        vertical-align: top;\n",
       "    }\n",
       "\n",
       "    .dataframe thead th {\n",
       "        text-align: right;\n",
       "    }\n",
       "</style>\n",
       "<table border=\"1\" class=\"dataframe\">\n",
       "  <thead>\n",
       "    <tr style=\"text-align: right;\">\n",
       "      <th></th>\n",
       "      <th>State</th>\n",
       "      <th>Energy /(eV)</th>\n",
       "    </tr>\n",
       "  </thead>\n",
       "  <tbody>\n",
       "    <tr>\n",
       "      <th>0</th>\n",
       "      <td>Root1:</td>\n",
       "      <td>-1.11818</td>\n",
       "    </tr>\n",
       "    <tr>\n",
       "      <th>1</th>\n",
       "      <td>Root2:</td>\n",
       "      <td>-0.79711</td>\n",
       "    </tr>\n",
       "    <tr>\n",
       "      <th>2</th>\n",
       "      <td>Root3:</td>\n",
       "      <td>-0.26564</td>\n",
       "    </tr>\n",
       "  </tbody>\n",
       "</table>\n",
       "</div>"
      ],
      "text/plain": [
       "    State Energy /(eV)\n",
       "0  Root1:     -1.11818\n",
       "1  Root2:     -0.79711\n",
       "2  Root3:     -0.26564"
      ]
     },
     "execution_count": 38,
     "metadata": {},
     "output_type": "execute_result"
    }
   ],
   "source": [
    "# the energies increasing, therefore becoming less stable\n",
    "pd.DataFrame(pd_data)"
   ]
  }
 ],
 "metadata": {
  "kernelspec": {
   "display_name": "Python 3",
   "language": "python",
   "name": "python3"
  },
  "language_info": {
   "codemirror_mode": {
    "name": "ipython",
    "version": 3
   },
   "file_extension": ".py",
   "mimetype": "text/x-python",
   "name": "python",
   "nbconvert_exporter": "python",
   "pygments_lexer": "ipython3",
   "version": "3.8.8"
  }
 },
 "nbformat": 4,
 "nbformat_minor": 5
}
