{
 "cells": [
  {
   "cell_type": "code",
   "execution_count": 23,
   "id": "3323212f",
   "metadata": {},
   "outputs": [],
   "source": [
    "import re"
   ]
  },
  {
   "cell_type": "code",
   "execution_count": 24,
   "id": "d5ad43f2",
   "metadata": {},
   "outputs": [],
   "source": [
    "with open(\"H2.out\") as f:\n",
    "    all_lines = f.readlines()"
   ]
  },
  {
   "cell_type": "code",
   "execution_count": 25,
   "id": "fb4d8750",
   "metadata": {},
   "outputs": [],
   "source": [
    "pat1 = re.compile(r\"MO Coeff Matrix:..\")"
   ]
  },
  {
   "cell_type": "code",
   "execution_count": 26,
   "id": "4f7088f8",
   "metadata": {},
   "outputs": [],
   "source": [
    "note_lines = []"
   ]
  },
  {
   "cell_type": "code",
   "execution_count": 27,
   "id": "dbc939a1",
   "metadata": {},
   "outputs": [],
   "source": [
    "for line in all_lines:\n",
    "    for match in re.finditer(pat1, line):\n",
    "        note_lines.append(line)"
   ]
  },
  {
   "cell_type": "code",
   "execution_count": 67,
   "id": "065268de",
   "metadata": {
    "scrolled": true
   },
   "outputs": [],
   "source": [
    "l = len(note_lines)\n",
    "mo_list = []\n",
    "for i in range(l):\n",
    "    splitem = note_lines[i].strip().split()\n",
    "    #print(splitem)\n",
    "    temp = splitem[-1]\n",
    "    mo_list.append(temp)"
   ]
  },
  {
   "cell_type": "code",
   "execution_count": 68,
   "id": "3b5c3ca0",
   "metadata": {},
   "outputs": [
    {
     "data": {
      "text/plain": [
       "(list, str, 1)"
      ]
     },
     "execution_count": 68,
     "metadata": {},
     "output_type": "execute_result"
    }
   ],
   "source": [
    "type(mo_list[0].split()) , type(mo_list[0]), len(mo_list[0].split()) "
   ]
  },
  {
   "cell_type": "code",
   "execution_count": 69,
   "id": "466709f8",
   "metadata": {},
   "outputs": [
    {
     "data": {
      "text/plain": [
       "['(0.04994200091301226,-0.005164013270739239)']"
      ]
     },
     "execution_count": 69,
     "metadata": {},
     "output_type": "execute_result"
    }
   ],
   "source": [
    "mo_list[0].split()"
   ]
  },
  {
   "cell_type": "code",
   "execution_count": 73,
   "id": "3e5ba004",
   "metadata": {
    "scrolled": true
   },
   "outputs": [],
   "source": [
    "mo_coeff = []\n",
    "for i in range(len(mo_list)):\n",
    "    temp = mo_list[i]\n",
    "    temp = re.sub(',', '+', temp)\n",
    "    temp = temp[1:-1]\n",
    "    temp += 'j'\n",
    "    mo_coeff.append(temp)\n",
    "    #print(mo_coeff)"
   ]
  },
  {
   "cell_type": "code",
   "execution_count": 92,
   "id": "dd76ade6",
   "metadata": {},
   "outputs": [
    {
     "data": {
      "text/plain": [
       "(72,\n",
       " '-0.5623477909158267+0.05810041939549674j',\n",
       " '0.04994200091301226+-0.005164013270739239j')"
      ]
     },
     "execution_count": 92,
     "metadata": {},
     "output_type": "execute_result"
    }
   ],
   "source": [
    "len(mo_coeff), mo_coeff[-1], mo_coeff[0].strip()"
   ]
  },
  {
   "cell_type": "code",
   "execution_count": 93,
   "id": "1c3c5847",
   "metadata": {},
   "outputs": [],
   "source": [
    "parsing_file = open('mo_coef_london.txt', 'w')\n",
    "for line in mo_coeff:\n",
    "    parsing_file.write(f\"{line}\\n\")\n",
    "parsing_file.close()"
   ]
  },
  {
   "cell_type": "code",
   "execution_count": null,
   "id": "993a4569",
   "metadata": {},
   "outputs": [],
   "source": []
  },
  {
   "cell_type": "code",
   "execution_count": null,
   "id": "9be08817",
   "metadata": {},
   "outputs": [],
   "source": []
  }
 ],
 "metadata": {
  "kernelspec": {
   "display_name": "Python 3",
   "language": "python",
   "name": "python3"
  },
  "language_info": {
   "codemirror_mode": {
    "name": "ipython",
    "version": 3
   },
   "file_extension": ".py",
   "mimetype": "text/x-python",
   "name": "python",
   "nbconvert_exporter": "python",
   "pygments_lexer": "ipython3",
   "version": "3.8.8"
  }
 },
 "nbformat": 4,
 "nbformat_minor": 5
}
